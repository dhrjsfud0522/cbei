{
 "cells": [
  {
   "cell_type": "code",
   "execution_count": 6,
   "metadata": {},
   "outputs": [
    {
     "name": "stdout",
     "output_type": "stream",
     "text": [
      "Requirement already satisfied: requests in /home/codespace/.local/lib/python3.10/site-packages (2.28.2)\n",
      "Requirement already satisfied: charset-normalizer<4,>=2 in /home/codespace/.local/lib/python3.10/site-packages (from requests) (3.1.0)\n",
      "Requirement already satisfied: idna<4,>=2.5 in /home/codespace/.local/lib/python3.10/site-packages (from requests) (3.4)\n",
      "Requirement already satisfied: urllib3<1.27,>=1.21.1 in /home/codespace/.local/lib/python3.10/site-packages (from requests) (1.26.15)\n",
      "Requirement already satisfied: certifi>=2017.4.17 in /home/codespace/.local/lib/python3.10/site-packages (from requests) (2022.12.7)\n",
      "\n",
      "\u001b[1m[\u001b[0m\u001b[34;49mnotice\u001b[0m\u001b[1;39;49m]\u001b[0m\u001b[39;49m A new release of pip is available: \u001b[0m\u001b[31;49m23.1.1\u001b[0m\u001b[39;49m -> \u001b[0m\u001b[32;49m23.1.2\u001b[0m\n",
      "\u001b[1m[\u001b[0m\u001b[34;49mnotice\u001b[0m\u001b[1;39;49m]\u001b[0m\u001b[39;49m To update, run: \u001b[0m\u001b[32;49mpip install --upgrade pip\u001b[0m\n",
      "Note: you may need to restart the kernel to use updated packages.\n"
     ]
    }
   ],
   "source": [
    "%pip install requests"
   ]
  },
  {
   "cell_type": "code",
   "execution_count": 7,
   "metadata": {},
   "outputs": [
    {
     "data": {
      "text/plain": [
       "(True, '8011017')"
      ]
     },
     "execution_count": 7,
     "metadata": {},
     "output_type": "execute_result"
    }
   ],
   "source": [
    "import requests\n",
    "import pprint\n",
    "\n",
    "def get_sc_code(name):\n",
    "    param = {\n",
    "        \"SCHUL_NM\": name,\n",
    "        \"ATPT_OFCDC_SC_CODE\": \"M10\",\n",
    "        \"Type\": \"json\"\n",
    "    }\n",
    "    res = requests.get(\"https://open.neis.go.kr/hub/schoolInfo\", params = param)\n",
    "    data = res.json()\n",
    "    r = True\n",
    "    try:\n",
    "        data = data[\"schoolInfo\"][1][\"row\"][0][\"SD_SCHUL_CODE\"]\n",
    "    except:\n",
    "        data = \"못찾음ㅋ\"\n",
    "        r = False\n",
    "    return r, data\n",
    "\n",
    "get_sc_code(\"서원중\")\n"
   ]
  },
  {
   "cell_type": "code",
   "execution_count": 71,
   "metadata": {},
   "outputs": [
    {
     "name": "stdout",
     "output_type": "stream",
     "text": [
      "참치마요덮밥\n",
      "매운콩나물국\n",
      "배추김치\n",
      "(희망)발효유\n",
      "망고파인애플주스\n",
      "생크림와플/딸기잼\n"
     ]
    }
   ],
   "source": [
    "\n",
    "def get_meal(code, d):\n",
    "    param = {\n",
    "        \"ATPT_OFCDC_SC_CODE\": \"M10\",\n",
    "        \"Type\": \"json\",\n",
    "        \"SD_SCHUL_CODE\": code,\n",
    "        \"MLSV_YMD\": d\n",
    "    }\n",
    "    \n",
    "    res = requests.get(\"https://open.neis.go.kr/hub/mealServiceDietInfo\", params = param)\n",
    "    data = res.json()\n",
    "\n",
    "    try:\n",
    "        data = data[\"mealServiceDietInfo\"][1][\"row\"][0][\"DDISH_NM\"]\n",
    "    except:\n",
    "        data = \"그날 밥 없음ㅋ\"\n",
    "\n",
    "    data = data.split(\"<br/>\")\n",
    "    #data = data.replace(\"<br/>\", \"\\n\")\n",
    "    newdata = []\n",
    "    for m in data:\n",
    "        newdata.append(print(m.split(\"  \")[0]))\n",
    "\n",
    "    return newdata\n",
    "    \n",
    "r, code = get_sc_code(\"서원중\")\n",
    "if(r == True):\n",
    "    data = get_meal(code, 20230607)\n",
    "\n"
   ]
  },
  {
   "cell_type": "code",
   "execution_count": 65,
   "metadata": {},
   "outputs": [
    {
     "data": {
      "text/plain": [
       "2020"
      ]
     },
     "execution_count": 65,
     "metadata": {},
     "output_type": "execute_result"
    }
   ],
   "source": [
    "n = 2020\n",
    "n"
   ]
  },
  {
   "cell_type": "code",
   "execution_count": 66,
   "metadata": {},
   "outputs": [
    {
     "data": {
      "text/plain": [
       "2020"
      ]
     },
     "execution_count": 66,
     "metadata": {},
     "output_type": "execute_result"
    }
   ],
   "source": [
    "n"
   ]
  }
 ],
 "metadata": {
  "kernelspec": {
   "display_name": "Python 3",
   "language": "python",
   "name": "python3"
  },
  "language_info": {
   "codemirror_mode": {
    "name": "ipython",
    "version": 3
   },
   "file_extension": ".py",
   "mimetype": "text/x-python",
   "name": "python",
   "nbconvert_exporter": "python",
   "pygments_lexer": "ipython3",
   "version": "3.10.4"
  },
  "orig_nbformat": 4
 },
 "nbformat": 4,
 "nbformat_minor": 2
}
