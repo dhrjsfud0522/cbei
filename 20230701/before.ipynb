{
 "cells": [
  {
   "cell_type": "code",
   "execution_count": 1,
   "metadata": {},
   "outputs": [
    {
     "name": "stdout",
     "output_type": "stream",
     "text": [
      "hello\n"
     ]
    }
   ],
   "source": [
    "%pip install requests"
   ]
  },
  {
   "cell_type": "code",
   "execution_count": 9,
   "metadata": {},
   "outputs": [
    {
     "name": "stdout",
     "output_type": "stream",
     "text": [
      "Requirement already satisfied: flet in .\\.venv\\lib\\site-packages (0.7.4)\n",
      "Requirement already satisfied: flet-core==0.7.4 in .\\.venv\\lib\\site-packages (from flet) (0.7.4)\n",
      "Requirement already satisfied: httpx<0.24.0,>=0.23.3 in .\\.venv\\lib\\site-packages (from flet) (0.23.3)\n",
      "Requirement already satisfied: oauthlib<4.0.0,>=3.2.2 in .\\.venv\\lib\\site-packages (from flet) (3.2.2)\n",
      "Requirement already satisfied: packaging<24.0,>=23.0 in .\\.venv\\lib\\site-packages (from flet) (23.1)\n",
      "Requirement already satisfied: watchdog<3.0.0,>=2.2.1 in .\\.venv\\lib\\site-packages (from flet) (2.3.1)\n",
      "Requirement already satisfied: websocket-client<2.0.0,>=1.4.2 in .\\.venv\\lib\\site-packages (from flet) (1.6.1)\n",
      "Requirement already satisfied: websockets<11.0,>=10.4 in .\\.venv\\lib\\site-packages (from flet) (10.4)\n",
      "Requirement already satisfied: repath<0.10.0,>=0.9.0 in .\\.venv\\lib\\site-packages (from flet-core==0.7.4->flet) (0.9.0)\n",
      "Requirement already satisfied: certifi in .\\.venv\\lib\\site-packages (from httpx<0.24.0,>=0.23.3->flet) (2023.5.7)\n",
      "Requirement already satisfied: httpcore<0.17.0,>=0.15.0 in .\\.venv\\lib\\site-packages (from httpx<0.24.0,>=0.23.3->flet) (0.16.3)\n",
      "Requirement already satisfied: rfc3986[idna2008]<2,>=1.3 in .\\.venv\\lib\\site-packages (from httpx<0.24.0,>=0.23.3->flet) (1.5.0)\n",
      "Requirement already satisfied: sniffio in .\\.venv\\lib\\site-packages (from httpx<0.24.0,>=0.23.3->flet) (1.3.0)\n",
      "Requirement already satisfied: h11<0.15,>=0.13 in .\\.venv\\lib\\site-packages (from httpcore<0.17.0,>=0.15.0->httpx<0.24.0,>=0.23.3->flet) (0.14.0)\n",
      "Requirement already satisfied: anyio<5.0,>=3.0 in .\\.venv\\lib\\site-packages (from httpcore<0.17.0,>=0.15.0->httpx<0.24.0,>=0.23.3->flet) (3.7.0)\n",
      "Requirement already satisfied: six>=1.9.0 in .\\.venv\\lib\\site-packages (from repath<0.10.0,>=0.9.0->flet-core==0.7.4->flet) (1.16.0)\n",
      "Requirement already satisfied: idna in .\\.venv\\lib\\site-packages (from rfc3986[idna2008]<2,>=1.3->httpx<0.24.0,>=0.23.3->flet) (3.4)\n",
      "Requirement already satisfied: exceptiongroup in .\\.venv\\lib\\site-packages (from anyio<5.0,>=3.0->httpcore<0.17.0,>=0.15.0->httpx<0.24.0,>=0.23.3->flet) (1.1.1)\n",
      "Note: you may need to restart the kernel to use updated packages.\n"
     ]
    }
   ],
   "source": [
    "%pip install flet"
   ]
  },
  {
   "cell_type": "code",
   "execution_count": 3,
   "metadata": {},
   "outputs": [
    {
     "name": "stdout",
     "output_type": "stream",
     "text": [
      "Collecting PySimpleGUI\n",
      "  Downloading PySimpleGUI-4.60.5-py3-none-any.whl (512 kB)\n",
      "                                              0.0/512.7 kB ? eta -:--:--\n",
      "     ----------------------------           389.1/512.7 kB 8.1 MB/s eta 0:00:01\n",
      "     -------------------------------------- 512.7/512.7 kB 8.1 MB/s eta 0:00:00\n",
      "Installing collected packages: PySimpleGUI\n",
      "Successfully installed PySimpleGUI-4.60.5\n",
      "Note: you may need to restart the kernel to use updated packages.\n"
     ]
    }
   ],
   "source": [
    "%pip install PySimpleGUI"
   ]
  },
  {
   "cell_type": "code",
   "execution_count": 6,
   "metadata": {},
   "outputs": [],
   "source": [
    "import requests\n",
    "\n",
    "def get_sc_code(name):\n",
    "    param = {\n",
    "        \"SCHUL_NM\": name,\n",
    "        \"ATPT_OFCDC_SC_CODE\": \"M10\",\n",
    "        \"Type\": \"json\"\n",
    "    }\n",
    "    res = requests.get(\"https://open.neis.go.kr/hub/schoolInfo\", params = param)\n",
    "    data = res.json()\n",
    "    r = True\n",
    "    try:\n",
    "        data = data[\"schoolInfo\"][1][\"row\"][0][\"SD_SCHUL_CODE\"]\n",
    "    except:\n",
    "        data = \"못찾음ㅋ\"\n",
    "        r = False\n",
    "    return r, data\n",
    "\n",
    "#get_sc_code(\"서원중\")"
   ]
  },
  {
   "cell_type": "code",
   "execution_count": 7,
   "metadata": {},
   "outputs": [],
   "source": [
    "\n",
    "def get_meal(code, d):\n",
    "    param = {\n",
    "        \"ATPT_OFCDC_SC_CODE\": \"M10\",\n",
    "        \"Type\": \"json\",\n",
    "        \"SD_SCHUL_CODE\": code,\n",
    "        \"MLSV_YMD\": d\n",
    "    }\n",
    "    \n",
    "    res = requests.get(\"https://open.neis.go.kr/hub/mealServiceDietInfo\", params = param)\n",
    "    data = res.json()\n",
    "\n",
    "    try:\n",
    "        data = data[\"mealServiceDietInfo\"][1][\"row\"][0][\"DDISH_NM\"]\n",
    "    except:\n",
    "        data = \"그날 밥 없음ㅋ\"\n",
    "\n",
    "    data = data.split(\"<br/>\")\n",
    "    #data = data.replace(\"<br/>\", \"\\n\")\n",
    "    newdata = []\n",
    "    for m in data:\n",
    "        newdata.append(m.split(\"  \")[0])\n",
    "\n",
    "    return newdata\n",
    "    \n",
    "r, code = get_sc_code(\"서원중\")\n",
    "if(r == True):\n",
    "    data = get_meal(code, 20230628)\n"
   ]
  },
  {
   "cell_type": "code",
   "execution_count": 8,
   "metadata": {},
   "outputs": [
    {
     "name": "stdout",
     "output_type": "stream",
     "text": [
      "-버튼1 {'-scname': '서원중', '-date': '20230612', '-txt': '데이터 없음'}\n",
      "['완두콩밥', '돈육김치찌개', '오이부추무침', '투움바함박스테이크', '깍두기', '수박', '(희망)우유']\n",
      "-버튼1 {'-scname': '서원중', '-date': '20230627', '-txt': '완두콩밥\\n돈육김치찌개\\n오이부추무침\\n투움바함박스테이크\\n깍두기\\n수박\\n(희망)우유'}\n",
      "['찰보리밥 ', '꽈리고추어묵볶음 (1.5.6.13.1.5.6.13)', '오징어볼탕수 (1.5.6.12.13.17.1.5.6.12.13.17)', '깍두기 (9.13.9)', '(희망)우유 (2.2)', '(친환경)참외 ', '부대찌개 (5.9.10.12.13.1.2.5.6.8.9.10.15.16.18)']\n",
      "-버튼1 {'-scname': '서원중', '-date': '20230628', '-txt': '찰보리밥 \\n꽈리고추어묵볶음 (1.5.6.13.1.5.6.13)\\n오징어볼탕수 (1.5.6.12.13.17.1.5.6.12.13.17)\\n깍두기 (9.13.9)\\n(희망)우유 (2.2)\\n(친환경)참외 \\n부대찌개 (5.9.10.12.13.1.2.5.6.8.9.10.15.16.18)'}\n",
      "['들깨무채국 (5.6.13.5.6.8.9.18)', '돈육김치치즈덮밥 (2.5.9.10.13.2.5.6.9.10.13)', '닭봉간장소스구이 (5.6.12.13.15.1.2.5.6.12.13.15)', '열무김치 (9.13.9)', '(희망)발효유 (2.2)', '아이스쿠키앤크림 (1.2.5.1.2.5)']\n",
      "-버튼1 {'-scname': '서원중', '-date': '20230629', '-txt': '들깨무채국 (5.6.13.5.6.8.9.18)\\n돈육김치치즈덮밥 (2.5.9.10.13.2.5.6.9.10.13)\\n닭봉간장소스구이 (5.6.12.13.15.1.2.5.6.12.13.15)\\n열무김치 (9.13.9)\\n(희망)발효유 (2.2)\\n아이스쿠키앤크림 (1.2.5.1.2.5)'}\n",
      "['그날 밥 없음ㅋ']\n",
      "None None\n"
     ]
    }
   ],
   "source": [
    "import PySimpleGUI as sg\n",
    "\n",
    "layout = [\n",
    "    [sg.Text(\"학교이름\"), sg.Input(\"서원중\", key = \"-scname\")],\n",
    "    [sg.Text(\"날짜\"), sg.Input(\"20230612\", key = \"-date\")],\n",
    "    [sg.Multiline(\"데이터 없음\", key = \"-txt\", expand_x =  True, size = (0, 5))],\n",
    "    [sg.Button(\"찾기\", key = \"-버튼1\", expand_x = True)],\n",
    "]\n",
    "Window = sg.Window(\"CBEI\", layout)\n",
    "\n",
    "while(True):\n",
    "    event, values = Window.read()\n",
    "    print(event, values)\n",
    "    if(event == sg.WIN_CLOSED): #sg.Win~ 는 None 과 같음\n",
    "        break\n",
    "    if(event == \"-버튼1\"):\n",
    "        scname = values[\"-scname\"]\n",
    "        d = values[\"-date\"]\n",
    "        r, data = get_sc_code(scname)\n",
    "        if(r == True):\n",
    "            meals = get_meal(data, d)\n",
    "            print(meals)\n",
    "            Window[\"-txt\"].update(\"\\n\".join(meals))\n",
    "\n",
    "Window.close()"
   ]
  },
  {
   "cell_type": "code",
   "execution_count": 5,
   "metadata": {},
   "outputs": [],
   "source": [
    "Window.close()\n"
   ]
  }
 ],
 "metadata": {
  "kernelspec": {
   "display_name": "Python 3",
   "language": "python",
   "name": "python3"
  },
  "language_info": {
   "codemirror_mode": {
    "name": "ipython",
    "version": 3
   },
   "file_extension": ".py",
   "mimetype": "text/x-python",
   "name": "python",
   "nbconvert_exporter": "python",
   "pygments_lexer": "ipython3",
   "version": "3.9.6"
  },
  "orig_nbformat": 4
 },
 "nbformat": 4,
 "nbformat_minor": 2
}
