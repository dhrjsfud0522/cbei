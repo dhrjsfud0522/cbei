{
 "cells": [
  {
   "cell_type": "code",
   "execution_count": 33,
   "metadata": {},
   "outputs": [
    {
     "name": "stdout",
     "output_type": "stream",
     "text": [
      "Requirement already satisfied: requests in d:\\gui\\.venv\\lib\\site-packages (2.31.0)\n",
      "Requirement already satisfied: charset-normalizer<4,>=2 in d:\\gui\\.venv\\lib\\site-packages (from requests) (3.1.0)\n",
      "Requirement already satisfied: idna<4,>=2.5 in d:\\gui\\.venv\\lib\\site-packages (from requests) (3.4)\n",
      "Requirement already satisfied: urllib3<3,>=1.21.1 in d:\\gui\\.venv\\lib\\site-packages (from requests) (2.0.3)\n",
      "Requirement already satisfied: certifi>=2017.4.17 in d:\\gui\\.venv\\lib\\site-packages (from requests) (2023.5.7)\n",
      "Note: you may need to restart the kernel to use updated packages.\n"
     ]
    }
   ],
   "source": [
    "%pip install requests"
   ]
  },
  {
   "cell_type": "code",
   "execution_count": 3,
   "metadata": {},
   "outputs": [],
   "source": [
    "import requests\n",
    "\n",
    "def get_sc_code(name):\n",
    "    param = {\n",
    "        \"SCHUL_NM\": name,\n",
    "        \"ATPT_OFCDC_SC_CODE\": \"M10\",\n",
    "        \"Type\": \"json\"\n",
    "    }\n",
    "    res = requests.get(\"https://open.neis.go.kr/hub/schoolInfo\", params = param)\n",
    "    data = res.json()\n",
    "    r = True\n",
    "    try:\n",
    "        data = data[\"schoolInfo\"][1][\"row\"][0][\"SD_SCHUL_CODE\"]\n",
    "    except:\n",
    "        data = \"못찾음ㅋ\"\n",
    "        r = False\n",
    "    return r, data\n",
    "\n",
    "#get_sc_code(\"서원중\")"
   ]
  },
  {
   "cell_type": "code",
   "execution_count": 12,
   "metadata": {},
   "outputs": [],
   "source": [
    "\n",
    "def get_meal(code, d):\n",
    "    param = {\n",
    "        \"ATPT_OFCDC_SC_CODE\": \"M10\",\n",
    "        \"Type\": \"json\",\n",
    "        \"SD_SCHUL_CODE\": code,\n",
    "        \"MLSV_YMD\": d\n",
    "    }\n",
    "    \n",
    "    res = requests.get(\"https://open.neis.go.kr/hub/mealServiceDietInfo\", params = param)\n",
    "    data = res.json()\n",
    "\n",
    "    try:\n",
    "        data = data[\"mealServiceDietInfo\"][1][\"row\"][0][\"DDISH_NM\"]\n",
    "    except:\n",
    "        data = \"그날 밥 없음ㅋ\"\n",
    "\n",
    "    data = data.split(\"<br/>\")\n",
    "    #data = data.replace(\"<br/>\", \"\\n\")\n",
    "    newdata = []\n",
    "    for m in data:\n",
    "        newdata.append(m.split(\"  \")[0])\n",
    "\n",
    "    return newdata\n",
    "    \n",
    "r, code = get_sc_code(\"서원중\")\n",
    "if(r == True):\n",
    "    data = get_meal(code, 20230607)\n",
    "\n"
   ]
  },
  {
   "cell_type": "code",
   "execution_count": 13,
   "metadata": {},
   "outputs": [
    {
     "name": "stdout",
     "output_type": "stream",
     "text": [
      "-버튼1 {'-scname': '서원중', '-date': '20230612', '-txt': '데이터 없음'}\n",
      "['완두콩밥', '돈육김치찌개', '오이부추무침', '투움바함박스테이크', '깍두기', '수박', '(희망)우유']\n",
      "None None\n"
     ]
    }
   ],
   "source": [
    "import PySimpleGUI as sg\n",
    "\n",
    "layout = [\n",
    "    [sg.Text(\"학교이름\"), sg.Input(\"서원중\", key = \"-scname\")],\n",
    "    [sg.Text(\"날짜\"), sg.Input(\"20230612\", key = \"-date\")],\n",
    "    [sg.Multiline(\"데이터 없음\", key = \"-txt\", expand_x =  True, size = (0, 5))],\n",
    "    [sg.Button(\"찾기\", key = \"-버튼1\", expand_x = True)],\n",
    "]\n",
    "Window = sg.Window(\"CBEI\", layout)\n",
    "\n",
    "while(True):\n",
    "    event, values = Window.read()\n",
    "    print(event, values)\n",
    "    if(event == sg.WIN_CLOSED): #sg.Win~ 는 None 과 같음\n",
    "        break\n",
    "    if(event == \"-버튼1\"):\n",
    "        scname = values[\"-scname\"]\n",
    "        d = values[\"-date\"]\n",
    "        r, data = get_sc_code(scname)\n",
    "        if(r == True):\n",
    "            meals = get_meal(data, d)\n",
    "            print(meals)\n",
    "            Window[\"-txt\"].update(\"\\n\".join(meals))\n",
    "\n",
    "Window.close()"
   ]
  },
  {
   "cell_type": "code",
   "execution_count": 7,
   "metadata": {},
   "outputs": [],
   "source": [
    "Window.close()\n"
   ]
  }
 ],
 "metadata": {
  "kernelspec": {
   "display_name": "Python 3",
   "language": "python",
   "name": "python3"
  },
  "language_info": {
   "codemirror_mode": {
    "name": "ipython",
    "version": 3
   },
   "file_extension": ".py",
   "mimetype": "text/x-python",
   "name": "python",
   "nbconvert_exporter": "python",
   "pygments_lexer": "ipython3",
   "version": "3.9.6"
  },
  "orig_nbformat": 4
 },
 "nbformat": 4,
 "nbformat_minor": 2
}
