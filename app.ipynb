{
 "cells": [
  {
   "cell_type": "code",
   "execution_count": 5,
   "metadata": {},
   "outputs": [
    {
     "name": "stdout",
     "output_type": "stream",
     "text": [
      "2 2 2 \n",
      "4 4 4 \n",
      "6 6 6 \n"
     ]
    }
   ],
   "source": [
    "# https://www.acmicpc.net/problem/2738\n",
    "#v1\n",
    "\n",
    "ll = []\n",
    "rl = []\n",
    "\n",
    "n, m = list(map(int, input().split()))\n",
    "#n개의 줄의 m개의 원소\n",
    "\n",
    "for _ in range(n): #좌항 입력\n",
    "    t = list(map(int, input().split()))\n",
    "    ll.append(t)\n",
    "\n",
    "for _ in range(n): #우항 입력\n",
    "    t = list(map(int, input().split()))\n",
    "    rl.append(t)\n",
    "\n",
    "for y in range(n):\n",
    "    for x in range(m):\n",
    "        print(ll[y][x] + rl[y][x], end = \" \")\n",
    "    print()"
   ]
  },
  {
   "cell_type": "code",
   "execution_count": 12,
   "metadata": {},
   "outputs": [
    {
     "name": "stdout",
     "output_type": "stream",
     "text": [
      "2 2 2 \n",
      "4 4 4 \n",
      "6 6 6 \n"
     ]
    }
   ],
   "source": [
    "# https://www.acmicpc.net/problem/2738\n",
    "# v2\n",
    "\n",
    "ll = []\n",
    "rl = []\n",
    "\n",
    "n, m = list(map(int, input().split()))\n",
    "#n개의 줄의 m개의 원소\n",
    "\n",
    "for _ in range(n): #좌항 입력\n",
    "    t = list(map(int, input().split()))\n",
    "    ll.append(t)\n",
    "\n",
    "\n",
    "for l in ll:\n",
    "    r = list(map(int , input().split()))\n",
    "    for i in zip(l, r):\n",
    "        print(sum(i), end = \" \")\n",
    "    print()"
   ]
  },
  {
   "cell_type": "code",
   "execution_count": 14,
   "metadata": {},
   "outputs": [
    {
     "name": "stdout",
     "output_type": "stream",
     "text": [
      "6 6\n",
      "7 7\n"
     ]
    }
   ],
   "source": [
    "# https://www.acmicpc.net/problem/2738\n",
    "# v3\n",
    "\n",
    "ll = []\n",
    "rl = []\n",
    "\n",
    "n, m = list(map(int, input().split()))\n",
    "#n개의 줄의 m개의 원소\n",
    "\n",
    "for _ in range(n): #좌항 입력\n",
    "    t = list(map(int, input().split()))\n",
    "    ll.append(t)\n",
    "\n",
    "\n",
    "for l in ll:\n",
    "    r = list(map(int , input().split()))\n",
    "    ll = [x + y for x, y in zip(i, r)]\n",
    "    print(*ll)"
   ]
  },
  {
   "cell_type": "code",
   "execution_count": 24,
   "metadata": {},
   "outputs": [
    {
     "name": "stdout",
     "output_type": "stream",
     "text": [
      "90\n",
      "6 4\n"
     ]
    }
   ],
   "source": [
    "#https://www.acmicpc.net/problem/2566\n",
    "yl = []\n",
    "xl = []\n",
    "mx = 0\n",
    "my = 0\n",
    "for i in range(9):\n",
    "    xl = list(map(int, input().split()))\n",
    "    yl.append(xl)\n",
    "    for n in xl:\n",
    "        if(n > yl[my][mx]):\n",
    "            my = i\n",
    "            mx = xl.index(n)\n",
    "\n",
    "print(yl[my][mx])\n",
    "print(my+1, mx+1)"
   ]
  },
  {
   "cell_type": "code",
   "execution_count": null,
   "metadata": {},
   "outputs": [],
   "source": []
  }
 ],
 "metadata": {
  "kernelspec": {
   "display_name": "Python 3",
   "language": "python",
   "name": "python3"
  },
  "language_info": {
   "codemirror_mode": {
    "name": "ipython",
    "version": 3
   },
   "file_extension": ".py",
   "mimetype": "text/x-python",
   "name": "python",
   "nbconvert_exporter": "python",
   "pygments_lexer": "ipython3",
   "version": "3.10.4"
  },
  "orig_nbformat": 4
 },
 "nbformat": 4,
 "nbformat_minor": 2
}
